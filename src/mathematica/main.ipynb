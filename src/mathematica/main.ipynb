{
 "cells": [
  {
   "cell_type": "code",
   "execution_count": 42,
   "metadata": {},
   "outputs": [
    {
     "name": "stdout",
     "output_type": "stream",
     "text": [
      "OPENQASM 3;\n",
      "include \"stdgates.inc\";\n",
      "input float[64] θ;\n",
      "qubit[1] _all_qubits;\n",
      "let q = _all_qubits[0:0];\n",
      "rx(θ) q[0];\n",
      "\n"
     ]
    }
   ],
   "source": [
    "from qiskit import QuantumCircuit\n",
    "from qiskit.circuit import Parameter\n",
    "from qiskit import qasm3\n",
    "from wolframclient.evaluation import WolframLanguageSession\n",
    "from wolframclient.language import wl, wlexpr\n",
    "\n",
    "def get_unitary_from_mathematica(qc: QuantumCircuit):\n",
    "    # Export the circuit to OpenQASM3\n",
    "    qasm3_str = qasm3.dumps(qc)\n",
    "\n",
    "    with WolframLanguageSession() as session:\n",
    "        # Load the OpenQASM3 string into Mathematica\n",
    "        session.evaluate(wlexpr('Needs[\"Wolfram`QuantumFramework`\"]'))\n",
    "        session.evaluate(wlexpr(f'circuit = ImportQASMCircuit[\"{qasm3_str}\"]'))\n",
    "\n",
    "        # Get the unitary matrix as a function of the parameter\n",
    "        session.evaluate(wlexpr('unitary = UnitaryMatrix[circuit]'))\n",
    "\n",
    "        # Convert the unitary matrix to a Python expression\n",
    "        unitary = session.evaluate(wlexpr('ToPythonExpression[unitary]'))\n",
    "\n",
    "    return unitary\n",
    "\n",
    "# Create a parameterized quantum circuit\n",
    "theta = Parameter(\"θ\")\n",
    "qc = QuantumCircuit(1)\n",
    "qc.rx(theta, 0)\n",
    "\n",
    "# Get the unitary matrix as a function of the parameter from Mathematica\n",
    "print(qasm3.dumps(qc))\n",
    "# unitary = get_unitary_from_mathematica(qc)\n",
    "# print(unitary)\n"
   ]
  },
  {
   "cell_type": "code",
   "execution_count": 57,
   "metadata": {},
   "outputs": [
    {
     "name": "stderr",
     "output_type": "stream",
     "text": [
      "A front end is not available; certain operations require a front end.\n",
      "A front end is not available; certain operations require a front end.\n"
     ]
    },
    {
     "name": "stdout",
     "output_type": "stream",
     "text": [
      "MatrixForm[SparseArray[Automatic, PackedArray([4, 4], dtype=int8), 0, (1, (PackedArray([ 0,  4,  8, 12, 16], dtype=int8), PackedArray([[1],\n",
      "             [2],\n",
      "             [3],\n",
      "             [4],\n",
      "             [1],\n",
      "             [2],\n",
      "             [3],\n",
      "             [4],\n",
      "             [1],\n",
      "             [2],\n",
      "             [3],\n",
      "             [4],\n",
      "             [1],\n",
      "             [2],\n",
      "             [3],\n",
      "             [4]], dtype=int8)), (Rational[1, 2], Rational[1, 2], Rational[1, 2], Rational[1, 2], Rational[1, 2], Rational[-1, 2], Rational[-1, 2], Rational[1, 2], Rational[1, 2], Rational[1, 2], Rational[-1, 2], Rational[-1, 2], Rational[1, 2], Rational[-1, 2], Rational[1, 2], Rational[-1, 2]))]]\n"
     ]
    }
   ],
   "source": [
    "with WolframLanguageSession() as session:\n",
    "    session.evaluate(wlexpr('Needs[\"Wolfram`QuantumFramework`\"]'))\n",
    "    session.evaluate(wlexpr('qc = QuantumCircuitOperator[{QuantumOperator[\"CNOT\"], QuantumOperator[{\"H\", 2}]}];'))\n",
    "    # print unitary matrix of the circuit\n",
    "    a = session.evaluate(wlexpr('MatrixForm[qc[\"Matrix\"]]'))\n",
    "print(a)"
   ]
  }
 ],
 "metadata": {
  "kernelspec": {
   "display_name": ".venv",
   "language": "python",
   "name": "python3"
  },
  "language_info": {
   "codemirror_mode": {
    "name": "ipython",
    "version": 3
   },
   "file_extension": ".py",
   "mimetype": "text/x-python",
   "name": "python",
   "nbconvert_exporter": "python",
   "pygments_lexer": "ipython3",
   "version": "3.11.1"
  },
  "orig_nbformat": 4
 },
 "nbformat": 4,
 "nbformat_minor": 2
}
